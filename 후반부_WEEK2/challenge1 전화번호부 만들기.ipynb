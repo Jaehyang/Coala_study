{
 "cells": [
  {
   "cell_type": "markdown",
   "metadata": {},
   "source": [
    "# 전화번호부 만들기\n",
    "![다음그림처럼](https://gblobscdn.gitbook.com/assets%2F-LeR-GoH6BL7vjJGC8as%2F-LeR-Xs49WNTJmZIKLYU%2F-LeR-Z9zbpN5ysSr4rNs%2Fimage%20(336).png?alt=media)"
   ]
  },
  {
   "cell_type": "code",
   "execution_count": 2,
   "metadata": {},
   "outputs": [
    {
     "name": "stdout",
     "output_type": "stream",
     "text": [
      "1단계: 전체 출력하기\n",
      "[{'name': '박지성', 'phone': '01040281234'}, {'name': '이청용', 'phone': '01023444321'}, {'name': '손흥민', 'phone': '01007070202'}]\n",
      "--------------\n",
      "2단계: 이청용 정보만 출력하기\n",
      "{'name': '이청용', 'phone': '01023444321'}\n"
     ]
    }
   ],
   "source": [
    "phonebook = [\n",
    "    {\n",
    "        'name': '박지성',\n",
    "        'phone': '01040281234'\n",
    "    }, {\n",
    "        'name': '이청용',\n",
    "        'phone': '01023444321'\n",
    "    }, {\n",
    "        'name': '손흥민',\n",
    "        'phone': '01007070202'\n",
    "\n",
    "    }\n",
    "]\n",
    "\n",
    "#1단계\n",
    "print(\"1단계: 전체 출력하기\")\n",
    "print(phonebook)\n",
    "\n",
    "#2단계\n",
    "print('--------------')\n",
    "print(\"2단계: 이청용 정보만 출력하기\")\n",
    "print(phonebook[1])"
   ]
  },
  {
   "cell_type": "code",
   "execution_count": null,
   "metadata": {},
   "outputs": [],
   "source": []
  }
 ],
 "metadata": {
  "kernelspec": {
   "display_name": "Python 3",
   "language": "python",
   "name": "python3"
  },
  "language_info": {
   "codemirror_mode": {
    "name": "ipython",
    "version": 3
   },
   "file_extension": ".py",
   "mimetype": "text/x-python",
   "name": "python",
   "nbconvert_exporter": "python",
   "pygments_lexer": "ipython3",
   "version": "3.7.6"
  }
 },
 "nbformat": 4,
 "nbformat_minor": 4
}
