{
 "cells": [
  {
   "cell_type": "markdown",
   "metadata": {},
   "source": [
    "## 함께실습"
   ]
  },
  {
   "cell_type": "code",
   "execution_count": 1,
   "metadata": {},
   "outputs": [],
   "source": [
    "a = 3"
   ]
  },
  {
   "cell_type": "code",
   "execution_count": 2,
   "metadata": {},
   "outputs": [
    {
     "name": "stdout",
     "output_type": "stream",
     "text": [
      "3\n"
     ]
    }
   ],
   "source": [
    "print(a)"
   ]
  },
  {
   "cell_type": "code",
   "execution_count": 3,
   "metadata": {},
   "outputs": [
    {
     "name": "stdout",
     "output_type": "stream",
     "text": [
      "1 2 -1231 123\n"
     ]
    }
   ],
   "source": [
    "a = 1\n",
    "b = 2\n",
    "c = -1231\n",
    "d = 123\n",
    "print(a, b, c, d)"
   ]
  },
  {
   "cell_type": "code",
   "execution_count": 4,
   "metadata": {},
   "outputs": [
    {
     "name": "stdout",
     "output_type": "stream",
     "text": [
      "444\n"
     ]
    }
   ],
   "source": [
    "add = 123 + 321\n",
    "print(add)"
   ]
  },
  {
   "cell_type": "code",
   "execution_count": 10,
   "metadata": {},
   "outputs": [
    {
     "name": "stdout",
     "output_type": "stream",
     "text": [
      "13\n"
     ]
    }
   ],
   "source": [
    "res = 3 + (2 * 5)\n",
    "print(res)"
   ]
  },
  {
   "cell_type": "code",
   "execution_count": 11,
   "metadata": {},
   "outputs": [
    {
     "name": "stdout",
     "output_type": "stream",
     "text": [
      "4.333333333333333\n"
     ]
    }
   ],
   "source": [
    "res = res / 3\n",
    "print(res)"
   ]
  },
  {
   "cell_type": "markdown",
   "metadata": {},
   "source": [
    "# 변수 문자열 사용법"
   ]
  },
  {
   "cell_type": "code",
   "execution_count": 12,
   "metadata": {},
   "outputs": [
    {
     "name": "stdout",
     "output_type": "stream",
     "text": [
      "Hello World\n",
      "안녕 세상\n"
     ]
    }
   ],
   "source": [
    "a = 'Hello World'\n",
    "print(a)\n",
    "\n",
    "b = \"안녕 세상\"\n",
    "print(b)"
   ]
  },
  {
   "cell_type": "code",
   "execution_count": 13,
   "metadata": {},
   "outputs": [
    {
     "name": "stdout",
     "output_type": "stream",
     "text": [
      "Hi\n"
     ]
    }
   ],
   "source": [
    "a = \"Hi\"\n",
    "print(a)"
   ]
  },
  {
   "cell_type": "code",
   "execution_count": 14,
   "metadata": {},
   "outputs": [
    {
     "name": "stdout",
     "output_type": "stream",
     "text": [
      "Hi\n"
     ]
    }
   ],
   "source": [
    "b = a\n",
    "print(b)"
   ]
  },
  {
   "cell_type": "code",
   "execution_count": 15,
   "metadata": {},
   "outputs": [
    {
     "name": "stdout",
     "output_type": "stream",
     "text": [
      "원하는 \n",
      "내용물\n",
      "편하게 \n",
      "\n",
      "여러 줄로 입력하기\n"
     ]
    }
   ],
   "source": [
    "longName = '''원하는 \n",
    "내용물\n",
    "편하게 \n",
    "\n",
    "여러 줄로 입력하기'''\n",
    "\n",
    "print(longName)"
   ]
  },
  {
   "cell_type": "markdown",
   "metadata": {},
   "source": [
    "# 변수 활용 퀴즈"
   ]
  },
  {
   "cell_type": "markdown",
   "metadata": {},
   "source": [
    "## 미션1"
   ]
  },
  {
   "cell_type": "code",
   "execution_count": 22,
   "metadata": {},
   "outputs": [
    {
     "name": "stdout",
     "output_type": "stream",
     "text": [
      "my name is Django\n"
     ]
    }
   ],
   "source": [
    "# 미션1 \n",
    "# 문자를 더하면?\n",
    "a = 'my name is '\n",
    "b = 'Django'\n",
    "print( a + b)\n"
   ]
  },
  {
   "cell_type": "markdown",
   "metadata": {},
   "source": [
    "# if 사용하기"
   ]
  },
  {
   "cell_type": "code",
   "execution_count": 17,
   "metadata": {},
   "outputs": [
    {
     "name": "stdout",
     "output_type": "stream",
     "text": [
      "성인입니다\n"
     ]
    }
   ],
   "source": [
    "age = 25\n",
    "if age > 19 :\n",
    "    print('성인입니다')\n",
    "else: \n",
    "    print('청소년입니다')"
   ]
  },
  {
   "cell_type": "code",
   "execution_count": 18,
   "metadata": {},
   "outputs": [
    {
     "name": "stdout",
     "output_type": "stream",
     "text": [
      "중학생이 아니므로.. 할인해드릴 수 없어요\n"
     ]
    }
   ],
   "source": [
    "age = 17\n",
    "\n",
    "if age >= 14 and age <= 16:\n",
    "    print('중학생입니다')\n",
    "else: \n",
    "    print('중학생이 아니므로.. 할인해드릴 수 없어요')"
   ]
  },
  {
   "cell_type": "markdown",
   "metadata": {},
   "source": [
    "## 미션2"
   ]
  },
  {
   "cell_type": "code",
   "execution_count": 24,
   "metadata": {},
   "outputs": [
    {
     "name": "stdout",
     "output_type": "stream",
     "text": [
      "우\n",
      "우\n"
     ]
    }
   ],
   "source": [
    "# elif, else를 안쓰고도 다음과 똑같은 결과가 나오도록 만들어보세요.\n",
    "\n",
    "score = 85\n",
    "if score >= 90:\n",
    "    print('수')\n",
    "elif score >=80:\n",
    "    print('우')\n",
    "elif score >=70:\n",
    "    print('미')\n",
    "elif score >=60:\n",
    "    print('양')\n",
    "else:\n",
    "    print('가')\n",
    "    \n",
    "# 코드\n",
    "score = 85 \n",
    "if score >=90:\n",
    "    print('수')\n",
    "if score >=80 and score < 90 :\n",
    "    print('우')\n",
    "if score >=70 and score < 80 :\n",
    "    print('미')\n",
    "if score >=60 and score < 70 :\n",
    "    print('양')\n",
    "if score <60:\n",
    "    print('가')"
   ]
  },
  {
   "cell_type": "markdown",
   "metadata": {},
   "source": [
    "## 자율1"
   ]
  },
  {
   "cell_type": "code",
   "execution_count": 25,
   "metadata": {},
   "outputs": [
    {
     "name": "stdout",
     "output_type": "stream",
     "text": [
      "불합격\n"
     ]
    }
   ],
   "source": [
    "# 20살 이상은 80점 이상시 합격, 20살 미만은 70점 이상시 합격을, 나머지는 불합격을 출력하세요\n",
    " \n",
    "age = 25\n",
    "score = 75\n",
    "\n",
    "if age >= 20:\n",
    "    if score >= 80:\n",
    "        print('합격')\n",
    "    else:\n",
    "        print('불합격')\n",
    "else:\n",
    "    if score >= 70:\n",
    "        print('합격')\n",
    "    else:\n",
    "        print('불합격')\n"
   ]
  },
  {
   "cell_type": "markdown",
   "metadata": {},
   "source": [
    "# 리스트"
   ]
  },
  {
   "cell_type": "code",
   "execution_count": 26,
   "metadata": {},
   "outputs": [
    {
     "name": "stdout",
     "output_type": "stream",
     "text": [
      "서울 마포 공덕\n"
     ]
    }
   ],
   "source": [
    "# 리스트: 온갖 데이터를 순서대로 담아두는 표\n",
    "\n",
    "myname = '박청용'\n",
    "birth = 650101\n",
    "addr = '서울 마포 공덕'\n",
    "\n",
    "person_info = [myname, birth, addr, '남자', 1100]\n",
    "\n",
    "print(person_info[2])\n"
   ]
  },
  {
   "cell_type": "markdown",
   "metadata": {},
   "source": [
    "# 딕셔너리"
   ]
  },
  {
   "cell_type": "code",
   "execution_count": 30,
   "metadata": {},
   "outputs": [
    {
     "name": "stdout",
     "output_type": "stream",
     "text": [
      "박청용\n",
      "650101\n",
      "1100\n"
     ]
    }
   ],
   "source": [
    "myname = '박청용'\n",
    "birth = 650101\n",
    "addr = '서울 마포 공덕'\n",
    "\n",
    "user_info = {\n",
    "    'name': myname, \n",
    "    'birth': birth, \n",
    "    'address': addr,\n",
    "    'gender': '남자',\n",
    "    'point': 1100\n",
    "} \n",
    "print(user_info['name'])\n",
    "print(user_info['birth'])\n",
    "print(user_info['point'])\n"
   ]
  },
  {
   "cell_type": "code",
   "execution_count": 34,
   "metadata": {},
   "outputs": [
    {
     "name": "stdout",
     "output_type": "stream",
     "text": [
      "[['박청용', 650101, '서울 마포 공덕', '남자', 1100], ['박지성', 810225, '맨체스터', '남자', 13000], {'name': '박청용', 'birth': 650101, 'address': '서울 마포 공덕', 'gender': '남자', 'point': 1100}]\n",
      "서울 마포 공덕\n"
     ]
    }
   ],
   "source": [
    "person_info2 = ['박지성', 810225, '맨체스터', '남자', 13000]\n",
    "\n",
    "user_list = [person_info, person_info2, user_info]\n",
    "\n",
    "print(user_list)\n",
    "print(user_list[0][2])"
   ]
  },
  {
   "cell_type": "code",
   "execution_count": null,
   "metadata": {},
   "outputs": [],
   "source": []
  }
 ],
 "metadata": {
  "kernelspec": {
   "display_name": "Python 3",
   "language": "python",
   "name": "python3"
  },
  "language_info": {
   "codemirror_mode": {
    "name": "ipython",
    "version": 3
   },
   "file_extension": ".py",
   "mimetype": "text/x-python",
   "name": "python",
   "nbconvert_exporter": "python",
   "pygments_lexer": "ipython3",
   "version": "3.7.6"
  }
 },
 "nbformat": 4,
 "nbformat_minor": 4
}
