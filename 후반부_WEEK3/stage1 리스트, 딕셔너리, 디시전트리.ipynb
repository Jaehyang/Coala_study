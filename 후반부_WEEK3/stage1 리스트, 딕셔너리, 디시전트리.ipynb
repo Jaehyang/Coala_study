{
 "cells": [
  {
   "cell_type": "markdown",
   "metadata": {},
   "source": [
    "## 리스트, 딕셔너리"
   ]
  },
  {
   "cell_type": "markdown",
   "metadata": {},
   "source": [
    "### 함께실습$1\n"
   ]
  },
  {
   "cell_type": "code",
   "execution_count": 24,
   "metadata": {},
   "outputs": [],
   "source": [
    "# 순서대로 [고양이/펭귄/닭/타조/참새]의 데이터\n",
    "data = {\n",
    "    'name': ['고양이', '펭귄', '닭', '타조', '참새'],\n",
    "    'wing': [False, True, True, True, True],\n",
    "    'weight': ['light', 'heavy', 'light', 'heavy', 'light'],\n",
    "    'density': ['low', 'high', 'high', 'high', 'low'],\n",
    "    'fly': [False, False, False, False, True]\n",
    "}"
   ]
  },
  {
   "cell_type": "code",
   "execution_count": 25,
   "metadata": {},
   "outputs": [
    {
     "name": "stdout",
     "output_type": "stream",
     "text": [
      "{'name': ['고양이', '펭귄', '닭', '타조', '참새'], 'wing': [False, True, True, True, True], 'weight': ['light', 'heavy', 'light', 'heavy', 'light'], 'density': ['low', 'high', 'high', 'high', 'low'], 'fly': [False, False, False, False, True]}\n"
     ]
    }
   ],
   "source": [
    "print(data)"
   ]
  },
  {
   "cell_type": "code",
   "execution_count": 26,
   "metadata": {},
   "outputs": [
    {
     "name": "stdout",
     "output_type": "stream",
     "text": [
      "고양이는 날개가 있을까? False\n",
      "닭은 날개가 있을까? True\n"
     ]
    }
   ],
   "source": [
    "# data라는 딕셔너리 안에서 'wing'이라는 키를 찾음. 그 중 인덱스 0\n",
    "print('고양이는 날개가 있을까?', data['wing'][0])\n",
    "print('닭은 날개가 있을까?', data['wing'][2])"
   ]
  },
  {
   "cell_type": "code",
   "execution_count": 27,
   "metadata": {},
   "outputs": [
    {
     "name": "stdout",
     "output_type": "stream",
     "text": [
      "True heavy high False\n"
     ]
    }
   ],
   "source": [
    "# 펭귄의 날개,무게,골밀도,비행가능여부 정보를 모두 보여주기\n",
    "\n",
    "print(data['wing'][1], \n",
    "     data['weight'][1], \n",
    "     data['density'][1], \n",
    "     data['fly'][1])"
   ]
  },
  {
   "cell_type": "code",
   "execution_count": 28,
   "metadata": {},
   "outputs": [
    {
     "name": "stdout",
     "output_type": "stream",
     "text": [
      "True light low True\n"
     ]
    }
   ],
   "source": [
    "# 참새의 모든 정보 보여주기\n",
    "\n",
    "bird_no = 4\n",
    "print(data['wing'][bird_no], \n",
    "     data['weight'][bird_no], \n",
    "     data['density'][bird_no], \n",
    "     data['fly'][bird_no])"
   ]
  },
  {
   "cell_type": "markdown",
   "metadata": {},
   "source": [
    "## 카테고리 데이터 기반의 Tree "
   ]
  },
  {
   "cell_type": "markdown",
   "metadata": {},
   "source": [
    "### 함께실습$2\n"
   ]
  },
  {
   "cell_type": "code",
   "execution_count": 29,
   "metadata": {},
   "outputs": [
    {
     "name": "stdout",
     "output_type": "stream",
     "text": [
      "고양이 :날 수 있는지 확인합니다.\n",
      "날 수 없다\n"
     ]
    }
   ],
   "source": [
    "target_index = 0\n",
    "\n",
    "print(data['name'][target_index], ':날 수 있는지 확인합니다.')\n",
    "\n",
    "# 날개 / 몸무게 / 골밀도\n",
    "\n",
    "# 날개 유무\n",
    "if data['wing'][target_index] == True:\n",
    "    # 날개 있다\n",
    "    if data['weight'][target_index] == 'heavy':\n",
    "        # 몸무게가 무겁다\n",
    "        print('날 수 없다')\n",
    "    else: \n",
    "        # 몸무게가 가볍다\n",
    "        if data['density'][target_index] == 'high':\n",
    "            # 골밀도가 높다\n",
    "            print('날 수 없다')\n",
    "        else:\n",
    "            # 골밀도가 낮다\n",
    "            print('날 수 있다')\n",
    "else: \n",
    "    # 날개 없다\n",
    "    print('날 수 없다')"
   ]
  },
  {
   "cell_type": "markdown",
   "metadata": {},
   "source": [
    "## 연속적 특성 데이터 기반의 Tree 만들기"
   ]
  },
  {
   "cell_type": "markdown",
   "metadata": {},
   "source": [
    "### 자율$1\n",
    "나이:0-100, 발사이즈:0-350  \n",
    "나이와 발사이즈만 보고 성별을 추측하기\n"
   ]
  },
  {
   "cell_type": "code",
   "execution_count": 35,
   "metadata": {},
   "outputs": [],
   "source": [
    "data = {\n",
    "    'name': ['1번 회원', '2번 회원', '3번 회원', '4번 회원'],\n",
    "    'age': [28, 22, 11, 10],\n",
    "    'fsize': [270, 235, 280, 220],\n",
    "    'gender': ['male', 'female', 'male', 'female']\n",
    "}"
   ]
  },
  {
   "cell_type": "code",
   "execution_count": 40,
   "metadata": {},
   "outputs": [
    {
     "name": "stdout",
     "output_type": "stream",
     "text": [
      "4번 회원 : 성별을 확인합니다.\n",
      "female\n"
     ]
    }
   ],
   "source": [
    "Target_index = 3\n",
    "\n",
    "print(data['name'][Target_index], ': 성별을 확인합니다.')\n",
    "\n",
    "# 20세 이하인지 확인\n",
    "if data['age'][Target_index] <= 20:\n",
    "    # 발사이즈 250 이하인지 확인\n",
    "    if data['fsize'][Target_index] <= 250:\n",
    "        print('female')\n",
    "    else: \n",
    "        # 발사이즈 250 초과\n",
    "        print('male')\n",
    "else: # 20세 이상\n",
    "    # 발사이즈 260 이상인지 확인\n",
    "    if data['fsize'][Target_index] >= 260:\n",
    "        print('male')\n",
    "    else:\n",
    "        # 발사이즈 260 미만\n",
    "        print('female')\n",
    "    \n"
   ]
  },
  {
   "cell_type": "code",
   "execution_count": null,
   "metadata": {},
   "outputs": [],
   "source": []
  }
 ],
 "metadata": {
  "kernelspec": {
   "display_name": "Python 3",
   "language": "python",
   "name": "python3"
  },
  "language_info": {
   "codemirror_mode": {
    "name": "ipython",
    "version": 3
   },
   "file_extension": ".py",
   "mimetype": "text/x-python",
   "name": "python",
   "nbconvert_exporter": "python",
   "pygments_lexer": "ipython3",
   "version": "3.7.6"
  }
 },
 "nbformat": 4,
 "nbformat_minor": 4
}
