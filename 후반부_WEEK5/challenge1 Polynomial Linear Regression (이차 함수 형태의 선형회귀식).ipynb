{
 "cells": [
  {
   "cell_type": "markdown",
   "metadata": {},
   "source": [
    "# Challenge1 : Polynomial Linear Regression\n",
    "이차함수 형태의 선형회귀식을 찾기"
   ]
  },
  {
   "cell_type": "code",
   "execution_count": 14,
   "metadata": {},
   "outputs": [],
   "source": [
    "data = [(1,5), (1.5,4), (2,3),\n",
    "        (3,1), (3,2), (4,1),\n",
    "        (5,1.5), (6,2), (6,4), \n",
    "       (7,4), (7,5)]"
   ]
  },
  {
   "cell_type": "code",
   "execution_count": 67,
   "metadata": {},
   "outputs": [
    {
     "name": "stdout",
     "output_type": "stream",
     "text": [
      "79.05160000000004\n"
     ]
    }
   ],
   "source": [
    "a = 0.4\n",
    "b = -2\n",
    "c = 2.66\n",
    "\n",
    "# y = ax^2 +bx + c\n",
    "\n",
    "sums = 0\n",
    "for (x, y) in data:\n",
    "    predict = a*x**2 + b*x + c\n",
    "    sums += (y - predict)**2\n",
    "print(sums)"
   ]
  },
  {
   "cell_type": "code",
   "execution_count": null,
   "metadata": {},
   "outputs": [],
   "source": []
  }
 ],
 "metadata": {
  "kernelspec": {
   "display_name": "Python 3",
   "language": "python",
   "name": "python3"
  },
  "language_info": {
   "codemirror_mode": {
    "name": "ipython",
    "version": 3
   },
   "file_extension": ".py",
   "mimetype": "text/x-python",
   "name": "python",
   "nbconvert_exporter": "python",
   "pygments_lexer": "ipython3",
   "version": "3.7.6"
  }
 },
 "nbformat": 4,
 "nbformat_minor": 4
}
