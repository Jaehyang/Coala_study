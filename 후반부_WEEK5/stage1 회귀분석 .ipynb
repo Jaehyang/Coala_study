{
 "cells": [
  {
   "cell_type": "markdown",
   "metadata": {},
   "source": [
    "# Stage 1\n",
    "![이미지설명](https://github.com/coalastudy/data-science-lv1/raw/84043adc3db6e425c0d6fd00aa2836f7b7dd65ea/week5/img/stage1_1.png)\n",
    "![이미지설명](https://gblobscdn.gitbook.com/assets%2F-LeR-GoH6BL7vjJGC8as%2F-LeR-Xs49WNTJmZIKLYU%2F-LeR-ZiwuPbVhPfBE1is%2Fimage%20(247).png?alt=media)\n",
    "\n",
    "## 파이썬 코드로 회귀분석식 찾기\n"
   ]
  },
  {
   "cell_type": "markdown",
   "metadata": {},
   "source": [
    "### 함께실습1: a가 0.5, b가 0.5일 때 오차제곱의 총합\n"
   ]
  },
  {
   "cell_type": "code",
   "execution_count": 2,
   "metadata": {},
   "outputs": [],
   "source": [
    "data = [(1,2), (2,2.5), (3,2),\n",
    "        (3,3), (4,3), (5,5),\n",
    "        (6,2), (7,4), (8,5)]\n",
    "# 튜플 말고 리스트여도 상관 없음\n",
    "# y = ax + b"
   ]
  },
  {
   "cell_type": "code",
   "execution_count": 4,
   "metadata": {},
   "outputs": [
    {
     "name": "stdout",
     "output_type": "stream",
     "text": [
      "9.75\n"
     ]
    }
   ],
   "source": [
    "a = 0.5\n",
    "b = 0.5\n",
    "\n",
    "sums = 0\n",
    "for (x, y) in data:\n",
    "#     print('x 좌표는?', x)\n",
    "#     print('y 좌표는?', y)\n",
    "    predict = a * x + b\n",
    "    sums = sums + (y - predict) * (y - predict) \n",
    "\n",
    "print(sums)"
   ]
  },
  {
   "cell_type": "markdown",
   "metadata": {},
   "source": [
    "### 미션1: a와 b가 (0.5,1), (0.4,1), (0.4,1.4) 일때 오차제곱합"
   ]
  },
  {
   "cell_type": "code",
   "execution_count": 5,
   "metadata": {},
   "outputs": [
    {
     "name": "stdout",
     "output_type": "stream",
     "text": [
      "7.5\n"
     ]
    }
   ],
   "source": [
    "a = 0.5\n",
    "b = 1\n",
    "\n",
    "sums = 0\n",
    "for (x, y) in data:\n",
    "    predict = a*x + b\n",
    "    sums += (y - predict)**2\n",
    "print(sums)"
   ]
  },
  {
   "cell_type": "code",
   "execution_count": 6,
   "metadata": {},
   "outputs": [
    {
     "name": "stdout",
     "output_type": "stream",
     "text": [
      "8.33\n"
     ]
    }
   ],
   "source": [
    "a = 0.4\n",
    "b = 1\n",
    "\n",
    "sums = 0\n",
    "for (x, y) in data:\n",
    "    predict = a*x + b\n",
    "    sums += (y - predict)**2\n",
    "print(sums)"
   ]
  },
  {
   "cell_type": "code",
   "execution_count": 7,
   "metadata": {},
   "outputs": [
    {
     "name": "stdout",
     "output_type": "stream",
     "text": [
      "6.650000000000001\n"
     ]
    }
   ],
   "source": [
    "a = 0.4\n",
    "b = 1.4\n",
    "\n",
    "sums = 0\n",
    "for (x, y) in data:\n",
    "    predict = a*x + b\n",
    "    sums += (y - predict)**2\n",
    "print(sums)"
   ]
  },
  {
   "cell_type": "markdown",
   "metadata": {},
   "source": [
    "#### a가 0.4, b가 1.4인 선형회귀식이 바로 우리가 최종적으로 찾은 회귀식임\n",
    "![이미지설명](https://gblobscdn.gitbook.com/assets%2F-LeR-GoH6BL7vjJGC8as%2F-LeR-Xs49WNTJmZIKLYU%2F-LeR-Zj1MY-_xUEryNh-%2Fimage%20(333).png?alt=media)\n"
   ]
  },
  {
   "cell_type": "markdown",
   "metadata": {},
   "source": [
    "### 자율1: 반복문을 이용해 250,000가지 직선을 테스트하기"
   ]
  },
  {
   "cell_type": "code",
   "execution_count": 8,
   "metadata": {},
   "outputs": [
    {
     "name": "stdout",
     "output_type": "stream",
     "text": [
      "0.35000000000000003 1.6500000000000001 6.539999999999999\n"
     ]
    }
   ],
   "source": [
    "import numpy as np\n",
    "# 수많은 경우 중 최소 값의 경우를 저장하기 위한 변수\n",
    "min_a = 0\n",
    "min_b = 0\n",
    "min_sums = 99999999\n",
    "\n",
    "for a in np.arange(0, 5, 0.01): # 0, 0.01, 0.02 ... 0.49까지의 500가지 경우\n",
    "    for b in np.arange(0, 5, 0.01): # 0, 0.01, 0.02 ... 0.49까지의 500가지 경우\n",
    "        # 현재 a, b의 오차제곱의 합을 구합니다.\n",
    "        sums = 0\n",
    "        for (x, y) in data:\n",
    "            predict = a * x + b\n",
    "            sums += (y - predict)**2\n",
    "            \n",
    "        # 지금 구한 오차제곱의 합이 최소값보다 작으면 저장해둡니다\n",
    "        if sums < min_sums:\n",
    "            min_a = a\n",
    "            min_b = b\n",
    "            min_sums = sums\n",
    "            \n",
    "# 앞서 저장해둔 최소값 상태를 표시합니다\n",
    "print(min_a, min_b, min_sums)\n",
    "# 앞서 구한 (0.4, 1.4) 경우 보다, (0.35, 1.65)가 더 작은 오차를 지닌 것 알수있음."
   ]
  },
  {
   "cell_type": "code",
   "execution_count": null,
   "metadata": {},
   "outputs": [],
   "source": []
  }
 ],
 "metadata": {
  "kernelspec": {
   "display_name": "Python 3",
   "language": "python",
   "name": "python3"
  },
  "language_info": {
   "codemirror_mode": {
    "name": "ipython",
    "version": 3
   },
   "file_extension": ".py",
   "mimetype": "text/x-python",
   "name": "python",
   "nbconvert_exporter": "python",
   "pygments_lexer": "ipython3",
   "version": "3.7.6"
  }
 },
 "nbformat": 4,
 "nbformat_minor": 4
}
